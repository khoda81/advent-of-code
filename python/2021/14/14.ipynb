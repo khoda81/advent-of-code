{
 "cells": [
  {
   "cell_type": "code",
   "execution_count": 49,
   "metadata": {},
   "outputs": [],
   "source": [
    "from collections import defaultdict\n",
    "\n",
    "reactions = {}\n",
    "with open(\"input14.txt\") as f:\n",
    "    lines = f.read().splitlines()\n",
    "    seq = lines[0].strip()\n",
    "\n",
    "    for line in lines[2:]:\n",
    "        line = line.strip()\n",
    "        from_, to = line.split(\" -> \")\n",
    "        reactions[from_] = to"
   ]
  },
  {
   "cell_type": "code",
   "execution_count": 50,
   "metadata": {},
   "outputs": [],
   "source": [
    "pairs = defaultdict(int)\n",
    "for i in range(len(seq)-1):\n",
    "    pairs[seq[i] + seq[i+1]] += 1\n",
    "\n",
    "for i in range(40):\n",
    "    new_pairs = defaultdict(int)\n",
    "    for base, result in reactions.items():\n",
    "        new_pairs[base[0] + result] += pairs[base]\n",
    "        new_pairs[result + base[1]] += pairs[base]\n",
    "\n",
    "    pairs = new_pairs"
   ]
  },
  {
   "cell_type": "code",
   "execution_count": 52,
   "metadata": {},
   "outputs": [],
   "source": [
    "counts = {}\n",
    "\n",
    "for atom in \"ABCDEFGHIJKLMNOPQRSTUVWXYZ\":\n",
    "    res = sum(count for pair, count in pairs.items() if pair[0] == atom)\n",
    "    if res > 0:\n",
    "        counts[atom] = res\n",
    "\n",
    "counts[seq[-1]] += 1"
   ]
  },
  {
   "cell_type": "code",
   "execution_count": 54,
   "metadata": {},
   "outputs": [
    {
     "data": {
      "text/plain": [
       "3776553567525"
      ]
     },
     "execution_count": 54,
     "metadata": {},
     "output_type": "execute_result"
    }
   ],
   "source": [
    "max(counts.values()) - min(counts.values())"
   ]
  }
 ],
 "metadata": {
  "interpreter": {
   "hash": "73a982f96dc9e148a9b1a9e858e3668866381515cbd2f00eab16889d388eeab5"
  },
  "kernelspec": {
   "display_name": "Python 3.9.7 64-bit ('data-science': conda)",
   "language": "python",
   "name": "python3"
  },
  "language_info": {
   "codemirror_mode": {
    "name": "ipython",
    "version": 3
   },
   "file_extension": ".py",
   "mimetype": "text/x-python",
   "name": "python",
   "nbconvert_exporter": "python",
   "pygments_lexer": "ipython3",
   "version": "3.9.7"
  },
  "orig_nbformat": 4
 },
 "nbformat": 4,
 "nbformat_minor": 2
}
