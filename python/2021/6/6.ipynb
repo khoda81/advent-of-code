{
 "cells": [
  {
   "cell_type": "code",
   "execution_count": 37,
   "metadata": {},
   "outputs": [],
   "source": [
    "with open(\"input6.txt\", \"r\") as f:\n",
    "    data = f.read().splitlines()[0]\n",
    "    nums = [int(x) for x in data.split(\",\")]"
   ]
  },
  {
   "cell_type": "code",
   "execution_count": 40,
   "metadata": {},
   "outputs": [],
   "source": [
    "counts = [0] * 9\n",
    "\n",
    "for n in nums:\n",
    "    counts[n] += 1\n",
    "\n",
    "for i in range(256):\n",
    "    new_counts = [0] * 9\n",
    "\n",
    "    for r in range(1, 9):\n",
    "        new_counts[r - 1] += counts[r]\n",
    "    new_counts[8] += counts[0]\n",
    "    new_counts[6] += counts[0]\n",
    "\n",
    "    counts = new_counts.copy()"
   ]
  },
  {
   "cell_type": "code",
   "execution_count": 41,
   "metadata": {},
   "outputs": [
    {
     "data": {
      "text/plain": [
       "1634946868992"
      ]
     },
     "execution_count": 41,
     "metadata": {},
     "output_type": "execute_result"
    }
   ],
   "source": [
    "sum(counts)"
   ]
  }
 ],
 "metadata": {
  "interpreter": {
   "hash": "73a982f96dc9e148a9b1a9e858e3668866381515cbd2f00eab16889d388eeab5"
  },
  "kernelspec": {
   "display_name": "Python 3.9.7 64-bit ('data-science': conda)",
   "language": "python",
   "name": "python3"
  },
  "language_info": {
   "codemirror_mode": {
    "name": "ipython",
    "version": 3
   },
   "file_extension": ".py",
   "mimetype": "text/x-python",
   "name": "python",
   "nbconvert_exporter": "python",
   "pygments_lexer": "ipython3",
   "version": "3.9.7"
  },
  "orig_nbformat": 4
 },
 "nbformat": 4,
 "nbformat_minor": 2
}
