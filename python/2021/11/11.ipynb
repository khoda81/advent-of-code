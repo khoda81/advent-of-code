{
 "cells": [
  {
   "cell_type": "code",
   "execution_count": 1,
   "metadata": {},
   "outputs": [],
   "source": [
    "class Bound:\n",
    "    def __init__(self, x, y):\n",
    "        self.x = x\n",
    "        self.y = y\n",
    "\n",
    "    def __str__(self):\n",
    "        return f\"({self.x}, {self.y})\"\n",
    "\n",
    "    def __contains__(self, item):\n",
    "        i, j = item\n",
    "        return 0 <= i < self.x and 0 <= j < self.y\n",
    "\n",
    "    def __iter__(self):\n",
    "        for i in range(self.x):\n",
    "            for j in range(self.y):\n",
    "                yield (i, j)\n",
    "    \n",
    "    def __eq__(self, other):\n",
    "        return self.x == other.x and self.y == other.y\n",
    "    \n",
    "    def limit(self, item):\n",
    "        i, j = item\n",
    "        return max(0, min(i, self.x - 1)), max(0, min(j, self.y - 1))"
   ]
  },
  {
   "cell_type": "code",
   "execution_count": 2,
   "metadata": {},
   "outputs": [],
   "source": [
    "# Each octopus has an energy level - your submarine can remotely measure the energy level of each octopus (your puzzle input). For example:\n",
    "# The energy level of each octopus is a value between 0 and 9. Here, the top-left octopus has an energy level of 5, the bottom-right one has an energy level of 6, and so on.\n",
    "\n",
    "# You can model the energy levels and flashes of light in steps. During a single step, the following occurs:\n",
    "\n",
    "# First, the energy level of each octopus increases by 1.\n",
    "# Then, any octopus with an energy level greater than 9 flashes. This increases the energy level of all adjacent octopuses by 1, including octopuses that are diagonally adjacent. If this causes an octopus to have an energy level greater than 9, it also flashes. This process continues as long as new octopuses keep having their energy level increased beyond 9. (An octopus can only flash at most once per step.)\n",
    "# Finally, any octopus that flashed during this step has its energy level set to 0, as it used all of its energy to flash.\n",
    "# Adjacent flashes can cause an octopus to flash on a step even if it begins that step with very little energy. Consider the middle octopus with 1 energy in this situation:\n",
    "\n",
    "import numpy as np\n",
    "\n",
    "neighbors = np.array([\n",
    "    [-1, -1], [-1, 0], [-1, 1],\n",
    "    [ 0, -1],          [ 0, 1],\n",
    "    [ 1, -1], [ 1, 0], [ 1, 1]\n",
    "])\n",
    "\n",
    "class Board:\n",
    "    def __init__(self, board):\n",
    "        self.board = np.array(board)\n",
    "        self.bound = Bound(*self.board.shape)\n",
    "\n",
    "    def step(self):\n",
    "        self.board += 1\n",
    "        self.flashed = np.zeros_like(self.board, dtype=bool)\n",
    "\n",
    "        while True:\n",
    "            new_flashes = 0\n",
    "            \n",
    "            conditions = (self.board > 9) & ~self.flashed\n",
    "            for i, j in zip(*np.where(conditions)):\n",
    "                if self.flashed[i, j]:\n",
    "                    continue\n",
    "                \n",
    "                new_flashes += 1\n",
    "                self.flashed[i, j] = True\n",
    "                pos = np.array([i, j])\n",
    "                for neighbor in neighbors + pos:\n",
    "                    if neighbor in self.bound:\n",
    "                        self.board[tuple(neighbor)] += 1\n",
    "            \n",
    "            if not new_flashes:\n",
    "                break\n",
    "        \n",
    "        self.board[self.flashed] = 0\n",
    "        return self.flashed.sum()\n",
    "\n",
    "    def __str__(self):\n",
    "        return \"\\n\".join(\n",
    "            \"\".join(f\"{x} \" if x < 10 else \"* \" for x in line)\n",
    "            for line in self.board\n",
    "        )\n"
   ]
  },
  {
   "cell_type": "code",
   "execution_count": 13,
   "metadata": {},
   "outputs": [],
   "source": [
    "with open(\"input11.txt\") as f:\n",
    "    board = [\n",
    "        [int(x) for x in line]\n",
    "        for line in f.read().splitlines()\n",
    "    ]\n",
    "\n",
    "board = Board(board)"
   ]
  },
  {
   "cell_type": "code",
   "execution_count": 14,
   "metadata": {},
   "outputs": [
    {
     "data": {
      "text/plain": [
       "237"
      ]
     },
     "execution_count": 14,
     "metadata": {},
     "output_type": "execute_result"
    }
   ],
   "source": [
    "step = 0\n",
    "\n",
    "while np.any(board.board):\n",
    "    board.step()\n",
    "    step += 1\n",
    "\n",
    "step"
   ]
  }
 ],
 "metadata": {
  "interpreter": {
   "hash": "73a982f96dc9e148a9b1a9e858e3668866381515cbd2f00eab16889d388eeab5"
  },
  "kernelspec": {
   "display_name": "Python 3.9.7 64-bit ('data-science': conda)",
   "language": "python",
   "name": "python3"
  },
  "language_info": {
   "codemirror_mode": {
    "name": "ipython",
    "version": 3
   },
   "file_extension": ".py",
   "mimetype": "text/x-python",
   "name": "python",
   "nbconvert_exporter": "python",
   "pygments_lexer": "ipython3",
   "version": "3.9.7"
  },
  "orig_nbformat": 4
 },
 "nbformat": 4,
 "nbformat_minor": 2
}
