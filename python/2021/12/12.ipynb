{
 "cells": [
  {
   "cell_type": "code",
   "execution_count": 28,
   "metadata": {},
   "outputs": [],
   "source": [
    "# build a graph\n",
    "# input:\n",
    "# start-A\n",
    "# start-b\n",
    "# A-c\n",
    "# A-b\n",
    "# b-d\n",
    "# A-end\n",
    "# b-end\n",
    "from collections import defaultdict\n",
    "\n",
    "graph = defaultdict(list)\n",
    "\n",
    "with open(\"input12.txt\") as f:\n",
    "    for line in f.read().splitlines():\n",
    "        start, end = line.split(\"-\")\n",
    "        graph[start].append(end)\n",
    "        graph[end].append(start)\n",
    "\n"
   ]
  },
  {
   "cell_type": "code",
   "execution_count": 29,
   "metadata": {},
   "outputs": [
    {
     "data": {
      "text/plain": [
       "93686"
      ]
     },
     "execution_count": 29,
     "metadata": {},
     "output_type": "execute_result"
    }
   ],
   "source": [
    "# Your goal is to find the number of distinct paths that start at start, end at end, and don't visit small caves more than once. \n",
    "# There are two types of caves: big caves (written in uppercase, like A) and small caves (written in lowercase, like b). \n",
    "# It would be a waste of time to visit any small cave more than once, but big caves are large enough that it might be worth visiting them multiple times. \n",
    "# So, all paths you find should visit small caves at most once, and can visit big caves any number of times.\n",
    "# Your goal is to find the number of distinct paths that start at start, end at end, and don't visit small caves more than once. \n",
    "# There are two types of caves: big caves (written in uppercase, like A) and small caves (written in lowercase, like b). \n",
    "# It would be a waste of time to visit any small cave more than once, but big caves are large enough that it might be worth visiting them multiple times. \n",
    "# So, all paths you find should visit small caves at most once, and can visit big caves any number of times.\n",
    "\n",
    "\n",
    "remaining = {\n",
    "    node: float(\"inf\") if node.isupper() else 2\n",
    "    for node in graph\n",
    "}\n",
    "remaining[\"start\"] = 1\n",
    "remaining[\"end\"] = 1\n",
    "\n",
    "\n",
    "def dfs(graph, node, visits, path, double_visit=False):\n",
    "    if node == \"end\":\n",
    "        yield path + [node]\n",
    "        return\n",
    "\n",
    "    if not remaining[node]:\n",
    "        return\n",
    "\n",
    "    remaining[node] -= 1\n",
    "    path.append(node)\n",
    "    \n",
    "    if node.islower() and remaining[node] == 0 and node not in [\"start\", \"end\"]:\n",
    "        if double_visit:\n",
    "            remaining[node] += 1\n",
    "            path.pop()\n",
    "            return\n",
    "        else:\n",
    "            double_visit = True\n",
    "\n",
    "    for neighbor in graph[node]:\n",
    "        yield from dfs(graph, neighbor, visits, path, double_visit)\n",
    "\n",
    "    path.pop()\n",
    "    remaining[node] += 1\n",
    "\n",
    "\n",
    "path = []\n",
    "visits = defaultdict(int)\n",
    "# for path in dfs(graph, \"start\", visits, path):\n",
    "#     print(',' .join(path))\n",
    "len(list(dfs(graph, \"start\", visits, path)))"
   ]
  }
 ],
 "metadata": {
  "interpreter": {
   "hash": "73a982f96dc9e148a9b1a9e858e3668866381515cbd2f00eab16889d388eeab5"
  },
  "kernelspec": {
   "display_name": "Python 3.9.7 64-bit ('data-science': conda)",
   "language": "python",
   "name": "python3"
  },
  "language_info": {
   "codemirror_mode": {
    "name": "ipython",
    "version": 3
   },
   "file_extension": ".py",
   "mimetype": "text/x-python",
   "name": "python",
   "nbconvert_exporter": "python",
   "pygments_lexer": "ipython3",
   "version": "3.9.7"
  },
  "orig_nbformat": 4
 },
 "nbformat": 4,
 "nbformat_minor": 2
}
