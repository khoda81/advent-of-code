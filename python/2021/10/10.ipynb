{
 "cells": [
  {
   "cell_type": "code",
   "execution_count": 29,
   "metadata": {},
   "outputs": [],
   "source": [
    "# ): 3 points.\n",
    "# ]: 57 points.\n",
    "# }: 1197 points.\n",
    "# >: 25137 points.\n",
    "\n",
    "points = {\n",
    "    ')': 3,\n",
    "    ']': 57,\n",
    "    '}': 1197,\n",
    "    '>': 25137,\n",
    "}\n",
    "\n",
    "scores = {\n",
    "    ')': '1',\n",
    "    ']': '2',\n",
    "    '}': '3',\n",
    "    '>': '4',\n",
    "}\n",
    "\n",
    "closing = {\n",
    "    '(': ')',\n",
    "    '[': ']',\n",
    "    '{': '}',\n",
    "    '<': '>',\n",
    "}"
   ]
  },
  {
   "cell_type": "code",
   "execution_count": 36,
   "metadata": {},
   "outputs": [],
   "source": [
    "with open('input10.txt') as f:\n",
    "    lines = f.read().splitlines()"
   ]
  },
  {
   "cell_type": "code",
   "execution_count": 37,
   "metadata": {},
   "outputs": [],
   "source": [
    "line_scores = []\n",
    "\n",
    "for line in lines:\n",
    "    stack = []\n",
    "    incorrect = False\n",
    "    for char in line:\n",
    "        if char in closing:\n",
    "            stack.append(closing[char])\n",
    "        else:\n",
    "            if not stack:\n",
    "                incorrect = True\n",
    "                break\n",
    "\n",
    "            if stack[-1] == char:\n",
    "                stack.pop()\n",
    "            else:\n",
    "                incorrect = True\n",
    "                break\n",
    "    \n",
    "    if incorrect:\n",
    "        continue\n",
    "\n",
    "    stack.reverse()\n",
    "    if stack:\n",
    "        num = ''.join(scores[char] for char in stack)\n",
    "        line_scores.append(int(num, 5))\n"
   ]
  },
  {
   "cell_type": "code",
   "execution_count": 35,
   "metadata": {},
   "outputs": [
    {
     "data": {
      "text/plain": [
       "[294, 5566, 288957, 995444, 1480781]"
      ]
     },
     "execution_count": 35,
     "metadata": {},
     "output_type": "execute_result"
    }
   ],
   "source": [
    "line_scores"
   ]
  },
  {
   "cell_type": "code",
   "execution_count": 38,
   "metadata": {},
   "outputs": [
    {
     "data": {
      "text/plain": [
       "2116639949"
      ]
     },
     "execution_count": 38,
     "metadata": {},
     "output_type": "execute_result"
    }
   ],
   "source": [
    "line_scores.sort()\n",
    "# get median\n",
    "line_scores[len(line_scores) // 2]"
   ]
  }
 ],
 "metadata": {
  "interpreter": {
   "hash": "73a982f96dc9e148a9b1a9e858e3668866381515cbd2f00eab16889d388eeab5"
  },
  "kernelspec": {
   "display_name": "Python 3.9.7 64-bit ('data-science': conda)",
   "language": "python",
   "name": "python3"
  },
  "language_info": {
   "codemirror_mode": {
    "name": "ipython",
    "version": 3
   },
   "file_extension": ".py",
   "mimetype": "text/x-python",
   "name": "python",
   "nbconvert_exporter": "python",
   "pygments_lexer": "ipython3",
   "version": "3.9.7"
  },
  "orig_nbformat": 4
 },
 "nbformat": 4,
 "nbformat_minor": 2
}
