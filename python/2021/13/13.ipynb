{
 "cells": [
  {
   "cell_type": "code",
   "execution_count": 18,
   "metadata": {},
   "outputs": [],
   "source": [
    "def get_fold(message):\n",
    "    \"\"\"\n",
    "    Convert fold message to a tuple:\n",
    " \n",
    "    >>> get_fold('fold along y=7')\n",
    "    (\"up\", 7)\n",
    "    >>> get_fold('fold along x=5')\n",
    "    (\"right\", 5)\n",
    "    \"\"\"\n",
    "    command, value = message.split(\"=\")\n",
    "    command = [\"up\", \"right\"][command == \"fold along x\"]\n",
    "    return command, int(value)\n",
    "\n",
    "def fold_up(dots, y):\n",
    "    \"\"\"\n",
    "    Fold all dots up along y.\n",
    " \n",
    "    >>> fold_up({(0, 0), (1, 1), (2, 2)}, 1)\n",
    "    {(0, 0), (1, 1), (0, 2)}\n",
    "    >>> fold_up({(0, 3), (4, 2), (5, 1)}, 3)\n",
    "    {(0, 3), (2, 2), (1, 1)}\n",
    "    \"\"\"\n",
    "    return {(i, j) if j <= y else (i, 2*y - j) for (i, j) in dots}\n",
    "\n",
    "def fold_right(dots, x):\n",
    "    \"\"\"\n",
    "    Fold all dots right along x.\n",
    " \n",
    "    >>> fold_right({(0, 0), (1, 1), (2, 2)}, 1)\n",
    "    {(0, 0), (1, 1), (2, 0)}\n",
    "    >>> fold_right({(0, 3), (4, 2), (5, 1)}, 3)\n",
    "    {(0, 3), (4, 4), (5, 5)}\n",
    "    \"\"\"\n",
    "    return {(i, j) if i <= x else (2*x - i, j) for (i, j) in dots}\n"
   ]
  },
  {
   "cell_type": "code",
   "execution_count": 23,
   "metadata": {},
   "outputs": [],
   "source": [
    "dots = set()\n",
    "folds = []\n",
    "\n",
    "with open(\"input13.txt\", \"r\") as f:\n",
    "    lines = f.read().splitlines()\n",
    "    i = 0\n",
    "    \n",
    "    while i < len(lines) and lines[i]:\n",
    "        x, y = map(int, lines[i].split(\",\"))\n",
    "        dots.add((x, y))\n",
    "        i += 1\n",
    "    \n",
    "    i += 1\n",
    "    \n",
    "    while i < len(lines):\n",
    "        folds.append(get_fold(lines[i]))\n",
    "        i += 1\n"
   ]
  },
  {
   "cell_type": "code",
   "execution_count": 24,
   "metadata": {},
   "outputs": [
    {
     "name": "stdout",
     "output_type": "stream",
     "text": [
      "103\n"
     ]
    }
   ],
   "source": [
    "for command, n in folds:\n",
    "    if command == \"up\":\n",
    "        dots = fold_up(dots, n)\n",
    "    else:\n",
    "        dots = fold_right(dots, n)\n",
    "\n",
    "print(len(dots))"
   ]
  },
  {
   "cell_type": "code",
   "execution_count": 25,
   "metadata": {},
   "outputs": [
    {
     "data": {
      "text/plain": [
       "(38, 5)"
      ]
     },
     "execution_count": 25,
     "metadata": {},
     "output_type": "execute_result"
    }
   ],
   "source": [
    "max_y = max(y for (x, y) in dots)\n",
    "max_x = max(x for (x, y) in dots)\n",
    "\n",
    "max_x, max_y"
   ]
  },
  {
   "cell_type": "code",
   "execution_count": 27,
   "metadata": {},
   "outputs": [],
   "source": [
    "import numpy as np\n",
    "\n",
    "board = np.zeros((max_x+1, max_y+1), dtype=bool)\n",
    "for dot in dots:\n",
    "    board[dot] = True"
   ]
  },
  {
   "cell_type": "code",
   "execution_count": 31,
   "metadata": {},
   "outputs": [
    {
     "name": "stdout",
     "output_type": "stream",
     "text": [
      "# # # . . # . . # . # . . # . # # # # . # # # # . . # # . . # . . # . # # # .\n",
      "# . . # . # . # . . # . . # . # . . . . . . . # . # . . # . # . . # . # . . #\n",
      "# . . # . # # . . . # # # # . # # # . . . . # . . # . . . . # . . # . # # # .\n",
      "# # # . . # . # . . # . . # . # . . . . . # . . . # . # # . # . . # . # . . #\n",
      "# . # . . # . # . . # . . # . # . . . . # . . . . # . . # . # . . # . # . . #\n",
      "# . . # . # . . # . # . . # . # . . . . # # # # . . # # # . . # # . . # # # .\n"
     ]
    }
   ],
   "source": [
    "for row in board.T:\n",
    "    print(\" \".join(\"#\" if x else \".\" for x in row))"
   ]
  }
 ],
 "metadata": {
  "interpreter": {
   "hash": "73a982f96dc9e148a9b1a9e858e3668866381515cbd2f00eab16889d388eeab5"
  },
  "kernelspec": {
   "display_name": "Python 3.9.7 64-bit ('data-science': conda)",
   "language": "python",
   "name": "python3"
  },
  "language_info": {
   "codemirror_mode": {
    "name": "ipython",
    "version": 3
   },
   "file_extension": ".py",
   "mimetype": "text/x-python",
   "name": "python",
   "nbconvert_exporter": "python",
   "pygments_lexer": "ipython3",
   "version": "3.9.7"
  },
  "orig_nbformat": 4
 },
 "nbformat": 4,
 "nbformat_minor": 2
}
