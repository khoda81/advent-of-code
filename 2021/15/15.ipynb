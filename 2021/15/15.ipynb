{
 "cells": [
  {
   "cell_type": "code",
   "execution_count": 3,
   "metadata": {},
   "outputs": [],
   "source": [
    "class Bound:\n",
    "    def __init__(self, x, y):\n",
    "        self.x = x\n",
    "        self.y = y\n",
    "\n",
    "    def __str__(self):\n",
    "        return f\"({self.x}, {self.y})\"\n",
    "\n",
    "    def __contains__(self, item):\n",
    "        i, j = item\n",
    "        return 0 <= i < self.x and 0 <= j < self.y\n",
    "\n",
    "    def __iter__(self):\n",
    "        for i in range(self.x):\n",
    "            for j in range(self.y):\n",
    "                yield (i, j)\n",
    "    \n",
    "    def __eq__(self, other):\n",
    "        return self.x == other.x and self.y == other.y\n",
    "    \n",
    "    def limit(self, item):\n",
    "        i, j = item\n",
    "        return max(0, min(i, self.x - 1)), max(0, min(j, self.y - 1))"
   ]
  },
  {
   "cell_type": "code",
   "execution_count": 15,
   "metadata": {},
   "outputs": [],
   "source": [
    "with open('input15.txt', 'r') as f:\n",
    "    data = f.read().splitlines()\n",
    "    grid = [list(map(int, line)) for line in data]\n",
    "\n",
    "# The entire cave is actually five times larger in both dimensions than you thought; the area you originally scanned is just one tile in a 5x5 tile area that forms the full map. Your original map tile repeats to the right and downward; each time the tile repeats to the right or downward, all of its risk levels are 1 higher than the tile immediately up or left of it. However, risk levels above 9 wrap back around to 1. So, if your original map had some position with a risk level of 8, then that same position on each of the 25 total tiles would be as follows:\n",
    "\n",
    "# 8 9 1 2 3\n",
    "# 9 1 2 3 4\n",
    "# 1 2 3 4 5\n",
    "# 2 3 4 5 6\n",
    "# 3 4 5 6 7\n",
    "\n",
    "# Each single digit above corresponds to the example position with a value of 8 on the top-left tile. Because the full map is actually five times larger in both dimensions, that position appears a total of 25 times, once in each duplicated tile, with the values shown above.\n",
    "\n",
    "import numpy as np\n",
    "\n",
    "grid = np.array(grid)\n",
    "actual_grid = np.empty((5*len(grid), 5*len(grid[0])), dtype=int)\n",
    "for i in range(5):\n",
    "    for j in range(5):\n",
    "        si, sj = i*len(grid), j*len(grid[0])\n",
    "        ei, ej = si + len(grid), sj + len(grid[0])\n",
    "        actual_grid[si:ei, sj:ej] = (grid + i + j - 1) % 9 + 1\n",
    "        \n",
    "grid = actual_grid.tolist()"
   ]
  },
  {
   "cell_type": "code",
   "execution_count": 16,
   "metadata": {},
   "outputs": [
    {
     "name": "stdout",
     "output_type": "stream",
     "text": [
      "2838\n"
     ]
    }
   ],
   "source": [
    "# find cost of minimum path from (0,0) to bottom right\n",
    "\n",
    "from heapq import heappush, heappop\n",
    "\n",
    "def get_neighbors(x, y):\n",
    "    return [(x+1, y), (x-1, y), (x, y+1), (x, y-1)]\n",
    "\n",
    "\n",
    "bound = Bound(len(grid), len(grid[0]))\n",
    "heap = [(0, (0, 0))]\n",
    "min_cost = [\n",
    "    [float('inf') for _ in row]\n",
    "    for row in grid\n",
    "]\n",
    "\n",
    "while heap:\n",
    "    cost, (x, y) = heappop(heap)\n",
    "    if (x, y) not in bound or min_cost[x][y] <= cost:\n",
    "        continue\n",
    "\n",
    "    min_cost[x][y] = cost\n",
    "    if (x, y) == (bound.x - 1, bound.y - 1):\n",
    "        print(cost)\n",
    "        break\n",
    "    for i, j in get_neighbors(x, y):\n",
    "        if (i, j) in bound:\n",
    "            heappush(heap, (cost + grid[i][j], (i, j)))"
   ]
  }
 ],
 "metadata": {
  "interpreter": {
   "hash": "73a982f96dc9e148a9b1a9e858e3668866381515cbd2f00eab16889d388eeab5"
  },
  "kernelspec": {
   "display_name": "Python 3.9.7 64-bit ('data-science': conda)",
   "language": "python",
   "name": "python3"
  },
  "language_info": {
   "codemirror_mode": {
    "name": "ipython",
    "version": 3
   },
   "file_extension": ".py",
   "mimetype": "text/x-python",
   "name": "python",
   "nbconvert_exporter": "python",
   "pygments_lexer": "ipython3",
   "version": "3.9.7"
  },
  "orig_nbformat": 4
 },
 "nbformat": 4,
 "nbformat_minor": 2
}
