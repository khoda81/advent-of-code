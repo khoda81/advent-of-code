{
 "cells": [
  {
   "cell_type": "code",
   "execution_count": 58,
   "metadata": {},
   "outputs": [],
   "source": [
    "# transitions :\n",
    "# 657,934 -> 657,926\n",
    "# 130,34 -> 570,474\n",
    "# 478,716 -> 226,464\n",
    "# 861,110 -> 861,167\n",
    "# 448,831 -> 370,831\n",
    "# 75,738 -> 390,738\n",
    "\n",
    "transitions = []\n",
    "size = (1000, 1000)\n",
    "\n",
    "with open(\"input5.txt\", \"r\") as f:\n",
    "    for line in f:\n",
    "        line = line.strip()\n",
    "        if line:\n",
    "            start, end = line.split(\" -> \")\n",
    "            x0, y0 = start.split(\",\")\n",
    "            x1, y1 = end.split(\",\")\n",
    "            x0, y0, x1, y1 = int(x0), int(y0), int(x1), int(y1)\n",
    "            transitions.append(((x0, y0), (x1, y1)))\n"
   ]
  },
  {
   "cell_type": "code",
   "execution_count": 59,
   "metadata": {},
   "outputs": [],
   "source": [
    "import numpy as np\n",
    "\n",
    "grid = np.zeros(size, dtype=int)\n",
    "\n",
    "for ((x0, y0), (x1, y1)) in transitions:\n",
    "    if x0 == x1:\n",
    "        y0, y1 = sorted([y0, y1])\n",
    "        grid[y0:y1+1, x0] += 1\n",
    "    elif y0 == y1:\n",
    "        x0, x1 = sorted([x0, x1])\n",
    "        grid[y0, x0:x1+1] += 1\n",
    "    else: # diagonal\n",
    "        point, other = sorted(\n",
    "            [(y0, x0), (y1, x1)],\n",
    "            key=lambda p: p[0]\n",
    "        )\n",
    "        step = 1 if point[1] < other[1] else -1\n",
    "\n",
    "        while point[1] != other[1]:\n",
    "            grid[point] += 1\n",
    "            point = (point[0] + 1, point[1] + step)\n",
    "        grid[point] += 1\n"
   ]
  },
  {
   "cell_type": "code",
   "execution_count": 60,
   "metadata": {},
   "outputs": [
    {
     "data": {
      "text/plain": [
       "21577"
      ]
     },
     "execution_count": 60,
     "metadata": {},
     "output_type": "execute_result"
    }
   ],
   "source": [
    "(grid > 1).sum()"
   ]
  }
 ],
 "metadata": {
  "interpreter": {
   "hash": "45ae0cc76c9142e889bec3c725c679f883987327cd0420eb8d89e367d02b5c33"
  },
  "kernelspec": {
   "display_name": "Python 3.10.0 64-bit",
   "language": "python",
   "name": "python3"
  },
  "language_info": {
   "codemirror_mode": {
    "name": "ipython",
    "version": 3
   },
   "file_extension": ".py",
   "mimetype": "text/x-python",
   "name": "python",
   "nbconvert_exporter": "python",
   "pygments_lexer": "ipython3",
   "version": "3.9.7"
  },
  "orig_nbformat": 4
 },
 "nbformat": 4,
 "nbformat_minor": 2
}
