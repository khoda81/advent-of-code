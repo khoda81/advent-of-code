{
 "cells": [
  {
   "cell_type": "code",
   "execution_count": 24,
   "metadata": {},
   "outputs": [],
   "source": [
    "import numpy as np\n",
    "\n",
    "with open(\"input9.txt\") as f:\n",
    "    board = [\n",
    "        [int(x) for x in line]\n",
    "        for line in f.read().splitlines()\n",
    "    ]\n",
    "\n",
    "board = np.array(board)\n",
    "directions = np.array([[0, 1], [1, 0], [0, -1], [-1, 0]])"
   ]
  },
  {
   "cell_type": "code",
   "execution_count": 25,
   "metadata": {},
   "outputs": [],
   "source": [
    "pits = [] # cells that are smaller than all neighbours\n",
    "end_x, end_y = board.shape\n",
    "\n",
    "for i in range(len(board)):\n",
    "    for j in range(len(board[0])):\n",
    "        is_pit = True\n",
    "\n",
    "        for neighbor in np.array([i, j]) + directions:\n",
    "            nx, ny = neighbor\n",
    "            if 0 <= nx < end_x and 0 <= ny < end_y and board[nx, ny] < board[i, j]:\n",
    "                is_pit = False\n",
    "                break\n",
    "        \n",
    "        if is_pit:\n",
    "            pits.append((i, j))\n"
   ]
  },
  {
   "cell_type": "code",
   "execution_count": 26,
   "metadata": {},
   "outputs": [],
   "source": [
    "from heapq import heappush, heappop\n",
    "\n",
    "# find all basins\n",
    "# a basin is a connected set of cells that are smaller than all neighbours\n",
    "padded_board = np.empty((end_x + 1, end_y + 1), dtype=int)\n",
    "padded_board[:-1, :-1] = board\n",
    "padded_board[-1] = 10\n",
    "padded_board[:, -1] = 10\n",
    "\n",
    "sizes = [0] * len(pits)\n",
    "# using priority queue to find the smallest basin\n",
    "for n, pit in enumerate(pits):\n",
    "    visited = np.zeros_like(board, dtype=bool)\n",
    "    heap = [(board[pit], pit)]\n",
    "\n",
    "    while heap:\n",
    "        value, pos = heappop(heap)\n",
    "        if visited[pos]:\n",
    "            continue\n",
    "\n",
    "        visited[pos] = True\n",
    "        is_basin = value < 9\n",
    "        for neighbor in np.array(pos) + directions:\n",
    "            nx, ny = neighbor\n",
    "            if 0 <= nx < end_x and 0 <= ny < end_y:\n",
    "                if board[nx, ny] > value:\n",
    "                    heappush(heap, (board[nx, ny], (nx, ny)))\n",
    "                elif board[nx, ny] < value and not visited[nx, ny]:\n",
    "                    is_basin = False\n",
    "     \n",
    "        sizes[n] += is_basin\n"
   ]
  },
  {
   "cell_type": "code",
   "execution_count": 28,
   "metadata": {},
   "outputs": [
    {
     "data": {
      "text/plain": [
       "[104, 112, 120]"
      ]
     },
     "execution_count": 28,
     "metadata": {},
     "output_type": "execute_result"
    }
   ],
   "source": [
    "sizes.sort()\n",
    "sizes[-3:]"
   ]
  },
  {
   "cell_type": "code",
   "execution_count": 23,
   "metadata": {},
   "outputs": [
    {
     "data": {
      "text/plain": [
       "1397760"
      ]
     },
     "execution_count": 23,
     "metadata": {},
     "output_type": "execute_result"
    }
   ],
   "source": [
    "120 * 112 * 104"
   ]
  }
 ],
 "metadata": {
  "interpreter": {
   "hash": "73a982f96dc9e148a9b1a9e858e3668866381515cbd2f00eab16889d388eeab5"
  },
  "kernelspec": {
   "display_name": "Python 3.9.7 64-bit ('data-science': conda)",
   "language": "python",
   "name": "python3"
  },
  "language_info": {
   "codemirror_mode": {
    "name": "ipython",
    "version": 3
   },
   "file_extension": ".py",
   "mimetype": "text/x-python",
   "name": "python",
   "nbconvert_exporter": "python",
   "pygments_lexer": "ipython3",
   "version": "3.9.7"
  },
  "orig_nbformat": 4
 },
 "nbformat": 4,
 "nbformat_minor": 2
}
