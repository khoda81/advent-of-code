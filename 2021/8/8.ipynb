{
 "cells": [
  {
   "cell_type": "code",
   "execution_count": 32,
   "metadata": {},
   "outputs": [],
   "source": [
    "entries = []\n",
    "with open('input8.txt', 'r') as f:\n",
    "    data = f.read().splitlines()\n",
    "    for line in data:\n",
    "        signals, digits = line.split(' | ')\n",
    "        entries.append((signals.split(), digits.split()))"
   ]
  },
  {
   "cell_type": "code",
   "execution_count": 35,
   "metadata": {},
   "outputs": [],
   "source": [
    "#  0:      1:      2:      3:      4:\n",
    "#  aaaa    ....    aaaa    aaaa    ....\n",
    "# b    c  .    c  .    c  .    c  b    c\n",
    "# b    c  .    c  .    c  .    c  b    c\n",
    "#  ....    ....    dddd    dddd    dddd\n",
    "# e    f  .    f  e    .  .    f  .    f\n",
    "# e    f  .    f  e    .  .    f  .    f\n",
    "#  gggg    ....    gggg    gggg    ....\n",
    "\n",
    "#   5:      6:      7:      8:      9:\n",
    "#  aaaa    aaaa    aaaa    aaaa    aaaa\n",
    "# b    .  b    .  .    c  b    c  b    c\n",
    "# b    .  b    .  .    c  b    c  b    c\n",
    "#  dddd    dddd    ....    dddd    dddd\n",
    "# .    f  e    f  .    f  e    f  .    f\n",
    "# .    f  e    f  .    f  e    f  .    f\n",
    "#  gggg    gggg    ....    gggg    gggg\n",
    "\n",
    "zero = {'a', 'b', 'c', 'e', 'f', 'g'}\n",
    "one = {'c', 'f'}\n",
    "two = {'a', 'c', 'd', 'e', 'g'}\n",
    "three = {'a', 'c', 'd', 'f', 'g'}\n",
    "four = {'b', 'c', 'd', 'f'}\n",
    "five = {'a', 'b', 'd', 'f', 'g'}\n",
    "six = {'a', 'b', 'd', 'e', 'f', 'g'}\n",
    "seven = {'a', 'c', 'f'}\n",
    "eight = {'a', 'b', 'c', 'd', 'e', 'f', 'g'}\n",
    "nine = {'a', 'b', 'c', 'd', 'f', 'g'}\n",
    "\n",
    "digit_segments = [zero, one, two, three, four, five, six, seven, eight, nine]"
   ]
  },
  {
   "cell_type": "code",
   "execution_count": 36,
   "metadata": {},
   "outputs": [
    {
     "data": {
      "text/plain": [
       "983026"
      ]
     },
     "execution_count": 36,
     "metadata": {},
     "output_type": "execute_result"
    }
   ],
   "source": [
    "from collections import defaultdict\n",
    "\n",
    "total = 0\n",
    "for signals, digits in entries:\n",
    "    connections = {}\n",
    "\n",
    "    counts = defaultdict(int)\n",
    "    for signal in signals:\n",
    "        for segment in signal:\n",
    "            counts[segment] += 1\n",
    "\n",
    "        if len(signal) == 2: # if signal has two segments, it's one\n",
    "            one = signal\n",
    "        elif len(signal) == 3: # if signal has three segments, it's seven\n",
    "            seven = signal\n",
    "        elif len(signal) == 4: # if signal has four segments, it's four\n",
    "            four = signal\n",
    "        elif len(signal) == 7: # if signal has seven segments, it's eight\n",
    "            eight = signal\n",
    "    \n",
    "    for segment, count in counts.items():\n",
    "        if count == 4: # if segment appears 4 times in signals, it's e\n",
    "            connections[segment] = 'e'\n",
    "        elif count == 9: # if segment appears 9 times in signals, it's f\n",
    "            connections[segment] = 'f'\n",
    "        elif count == 6: # if segment appears 6 times in signals, it's g\n",
    "            connections[segment] = 'b'\n",
    "    \n",
    "    # segment that is not connected but is in one is 'c':\n",
    "    for segment in one:\n",
    "        if segment not in connections:\n",
    "            connections[segment] = 'c'\n",
    "            break\n",
    "    \n",
    "    # segment that is not connected but is in seven is 'a':\n",
    "    for segment in seven:\n",
    "        if segment not in connections:\n",
    "            connections[segment] = 'a'\n",
    "            break\n",
    "    \n",
    "    # segment that is not connected but is in four is 'd':\n",
    "    for segment in four:\n",
    "        if segment not in connections:\n",
    "            connections[segment] = 'd'\n",
    "            break\n",
    "    \n",
    "    # segment that is not connected but is in eight is 'g':\n",
    "    for segment in eight:\n",
    "        if segment not in connections:\n",
    "            connections[segment] = 'g'\n",
    "            break\n",
    "\n",
    "    nums = []\n",
    "    for digit in digits:\n",
    "        correct_digit = {connections[segment] for segment in digit}\n",
    "\n",
    "        for i in range(len(digit_segments)):\n",
    "            if correct_digit == digit_segments[i]:\n",
    "                nums.append(i)\n",
    "                break\n",
    "    \n",
    "    num = 1000 * nums[0] + 100 * nums[1] + 10 * nums[2] + nums[3]\n",
    "    total += num\n",
    "\n",
    "\n",
    "total"
   ]
  },
  {
   "cell_type": "code",
   "execution_count": 29,
   "metadata": {},
   "outputs": [
    {
     "data": {
      "text/plain": [
       "61229"
      ]
     },
     "execution_count": 29,
     "metadata": {},
     "output_type": "execute_result"
    }
   ],
   "source": []
  },
  {
   "cell_type": "code",
   "execution_count": 23,
   "metadata": {},
   "outputs": [
    {
     "data": {
      "text/plain": [
       "{'f': 'b', 'e': 'f', 'a': 'e', 'd': 'c', 'c': 'a', 'b': 'd', 'g': 'g'}"
      ]
     },
     "execution_count": 23,
     "metadata": {},
     "output_type": "execute_result"
    }
   ],
   "source": [
    "connections"
   ]
  },
  {
   "cell_type": "code",
   "execution_count": 6,
   "metadata": {},
   "outputs": [],
   "source": [
    "counts = defaultdict(int)\n",
    "\n",
    "for _, digits in entries:\n",
    "    for digit in digits:\n",
    "        counts[len(digit)] += 1"
   ]
  },
  {
   "cell_type": "code",
   "execution_count": 7,
   "metadata": {},
   "outputs": [
    {
     "data": {
      "text/plain": [
       "245"
      ]
     },
     "execution_count": 7,
     "metadata": {},
     "output_type": "execute_result"
    }
   ],
   "source": [
    "counts[2] + counts[3] + counts[4] + counts[7]"
   ]
  }
 ],
 "metadata": {
  "interpreter": {
   "hash": "73a982f96dc9e148a9b1a9e858e3668866381515cbd2f00eab16889d388eeab5"
  },
  "kernelspec": {
   "display_name": "Python 3.9.7 64-bit ('data-science': conda)",
   "language": "python",
   "name": "python3"
  },
  "language_info": {
   "codemirror_mode": {
    "name": "ipython",
    "version": 3
   },
   "file_extension": ".py",
   "mimetype": "text/x-python",
   "name": "python",
   "nbconvert_exporter": "python",
   "pygments_lexer": "ipython3",
   "version": "3.9.7"
  },
  "orig_nbformat": 4
 },
 "nbformat": 4,
 "nbformat_minor": 2
}
